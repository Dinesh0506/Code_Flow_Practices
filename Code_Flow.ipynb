{
 "cells": [
  {
   "cell_type": "code",
   "execution_count": 1,
   "id": "1d1df08c-da3d-485c-bbec-0342b53d3bc0",
   "metadata": {},
   "outputs": [],
   "source": [
    "cart_items = [\"Laptop\", \"Mouse\", \"Keyboard\", \"Monitor\"]\n",
    "item_prices = {\"Laptop\": 1000, \"Mouse\": 20, \"Keyboard\": 50, \"Monitor\": 300}"
   ]
  },
  {
   "cell_type": "code",
   "execution_count": 2,
   "id": "7ea685e9-6442-4104-9957-d2dbeb684523",
   "metadata": {},
   "outputs": [
    {
     "name": "stdout",
     "output_type": "stream",
     "text": [
      "Total Cost before discount: 1370\n"
     ]
    }
   ],
   "source": [
    "# Calculate the total cost\n",
    "total_cost = sum(item_prices[item] for item in cart_items)\n",
    "print(\"Total Cost before discount:\", total_cost)"
   ]
  },
  {
   "cell_type": "code",
   "execution_count": 3,
   "id": "a17d5fe8-9719-4f8c-8654-894cd9e9012d",
   "metadata": {},
   "outputs": [
    {
     "name": "stdout",
     "output_type": "stream",
     "text": [
      "Total Cost after discount: 1233.0\n"
     ]
    }
   ],
   "source": [
    "discount_rate = 0.1  # 10% discount\n",
    "if total_cost > 200:\n",
    "    total_cost -= total_cost * discount_rate\n",
    "print(\"Total Cost after discount:\", total_cost)"
   ]
  },
  {
   "cell_type": "code",
   "execution_count": 4,
   "id": "99ac760d-6350-4232-9f71-a33a4d435e33",
   "metadata": {},
   "outputs": [],
   "source": [
    "class CustomerOrder:\n",
    "    def __init__(self, items, total_cost, discount):\n",
    "        self.items = items\n",
    "        self.total_cost = total_cost\n",
    "        self.discount = discount\n",
    "\n",
    "    def display_order_summary(self):\n",
    "        print(\"Order Summary:\")\n",
    "        print(\"Items:\", ', '.join(self.items))\n",
    "        print(\"Total Cost:\", self.total_cost)\n",
    "        print(\"Discount Applied:\", self.discount)"
   ]
  },
  {
   "cell_type": "code",
   "execution_count": 5,
   "id": "61fe6606-f1ae-4b28-8ec8-6b4e65081de6",
   "metadata": {},
   "outputs": [
    {
     "name": "stdout",
     "output_type": "stream",
     "text": [
      "Order Summary:\n",
      "Items: Laptop, Mouse, Keyboard, Monitor\n",
      "Total Cost: 1233.0\n",
      "Discount Applied: 0.1\n"
     ]
    }
   ],
   "source": [
    "customer_order = CustomerOrder(cart_items, total_cost, discount_rate)\n",
    "customer_order.display_order_summary()"
   ]
  },
  {
   "cell_type": "code",
   "execution_count": 27,
   "id": "f8e07236-b700-46e2-bb00-d5029b24d735",
   "metadata": {},
   "outputs": [],
   "source": [
    "employee_details = {\n",
    "    \"John\": {\"Department\": \"HR\", \"Salary\": 50000},\n",
    "    \"Alice\": {\"Department\": \"Engineering\", \"Salary\": 70000},\n",
    "    \"Bob\": {\"Department\": \"Marketing\", \"Salary\": 60000}\n",
    "}\n"
   ]
  },
  {
   "cell_type": "code",
   "execution_count": 28,
   "id": "3dbccebb-96d6-40ed-b000-b4d24f4061e3",
   "metadata": {},
   "outputs": [
    {
     "name": "stdout",
     "output_type": "stream",
     "text": [
      "\n",
      "Total Salaries by Department:\n",
      "HR: $50000\n",
      "Engineering: $70000\n",
      "Marketing: $60000\n"
     ]
    }
   ],
   "source": [
    "department_salaries = {}\n",
    "for employee, details in employee_details.items():\n",
    "    department = details[\"Department\"]\n",
    "    salary = details[\"Salary\"]\n",
    "    department_salaries[department] = department_salaries.get(department, 0) + salary\n",
    "\n",
    "# Display total salaries for each department\n",
    "print(\"\\nTotal Salaries by Department:\")\n",
    "for department, total_salary in department_salaries.items():\n",
    "    print(f\"{department}: ${total_salary}\")"
   ]
  },
  {
   "cell_type": "code",
   "execution_count": 29,
   "id": "c1b62a3e-cf9f-45c5-8632-95d44c38cd7b",
   "metadata": {},
   "outputs": [
    {
     "name": "stdout",
     "output_type": "stream",
     "text": [
      "\n",
      "Total Salaries by Department:\n",
      "\n",
      "Department: HR\n",
      "Employee: John, Salary: $50000\n",
      "\n",
      "Department: Engineering\n",
      "Employee: Alice, Salary: $70000\n",
      "\n",
      "Department: Marketing\n",
      "Employee: Bob, Salary: $60000\n"
     ]
    }
   ],
   "source": [
    "department_salaries = {}\n",
    "for employee, details in employee_details.items():\n",
    "    department = details[\"Department\"]\n",
    "    salary = details[\"Salary\"]\n",
    "    department_salaries[department] = department_salaries.get(department, []) + [(employee, salary)]\n",
    "\n",
    "# Display total salaries for each department\n",
    "print(\"\\nTotal Salaries by Department:\")\n",
    "for department, employee_salaries in department_salaries.items():\n",
    "    print(f\"\\nDepartment: {department}\")\n",
    "    for employee, salary in employee_salaries:\n",
    "        print(f\"Employee: {employee}, Salary: ${salary}\")\n"
   ]
  },
  {
   "cell_type": "code",
   "execution_count": 30,
   "id": "c7b90feb-38ff-49e4-9690-a8bddf9e65fa",
   "metadata": {},
   "outputs": [],
   "source": [
    "library_books = {\n",
    "    \"Python Programming\": 5,\n",
    "    \"Data Science for Beginners\": 3,\n",
    "    \"Classic Novels Collection\": 8,\n",
    "    \"Web Development Basics\": 6,\n",
    "    \"Introduction to AI\": 4\n",
    "}\n"
   ]
  },
  {
   "cell_type": "code",
   "execution_count": 31,
   "id": "57c36c3f-39b5-4763-ba5c-8cdc4d267428",
   "metadata": {},
   "outputs": [
    {
     "name": "stdout",
     "output_type": "stream",
     "text": [
      "Available Books:\n",
      "Python Programming - Copies available: 5\n",
      "Data Science for Beginners - Copies available: 3\n",
      "Classic Novels Collection - Copies available: 8\n",
      "Web Development Basics - Copies available: 6\n",
      "Introduction to AI - Copies available: 4\n"
     ]
    }
   ],
   "source": [
    "# Display available books\n",
    "print(\"Available Books:\")\n",
    "for book, copies in library_books.items():\n",
    "    print(f\"{book} - Copies available: {copies}\")"
   ]
  },
  {
   "cell_type": "code",
   "execution_count": 33,
   "id": "f9701e7e-80f6-4a4c-8eab-d195f781e499",
   "metadata": {},
   "outputs": [
    {
     "name": "stdin",
     "output_type": "stream",
     "text": [
      "Enter the book you want to borrow:  Python Programming\n"
     ]
    }
   ],
   "source": [
    "# Second code snippet: Simulate a user borrowing a book\n",
    "user_book = input(\"Enter the book you want to borrow: \")"
   ]
  },
  {
   "cell_type": "code",
   "execution_count": 34,
   "id": "78a45117-eae3-4dc1-9e39-266f09fc10a8",
   "metadata": {},
   "outputs": [],
   "source": [
    "store_inventory = {\n",
    "    \"Apples\": {\"quantity\": 100, \"price\": 1.5},\n",
    "    \"Bananas\": {\"quantity\": 50, \"price\": 0.8},\n",
    "    \"Milk\": {\"quantity\": 20, \"price\": 2.0},\n",
    "    \"Bread\": {\"quantity\": 30, \"price\": 1.0},\n",
    "    \"Eggs\": {\"quantity\": 40, \"price\": 1.2}\n",
    "}"
   ]
  },
  {
   "cell_type": "code",
   "execution_count": 37,
   "id": "b358436a-cdea-4644-a417-74fc32d3e7cd",
   "metadata": {},
   "outputs": [
    {
     "name": "stdout",
     "output_type": "stream",
     "text": [
      "Store Inventory:\n",
      "Apples - Quantity: 100, Price: $1.5 per unit\n",
      "Bananas - Quantity: 50, Price: $0.8 per unit\n",
      "Milk - Quantity: 20, Price: $2.0 per unit\n",
      "Bread - Quantity: 30, Price: $1.0 per unit\n",
      "Eggs - Quantity: 40, Price: $1.2 per unit\n"
     ]
    }
   ],
   "source": [
    "# Display available products and their details\n",
    "print(\"Store Inventory:\")\n",
    "for product, details in store_inventory.items():\n",
    "    print(f\"{product} - Quantity: {details['quantity']}, Price: ${details['price']} per unit\")"
   ]
  },
  {
   "cell_type": "code",
   "execution_count": 41,
   "id": "aafc7381-28b2-4193-80e2-06141cfdb8eb",
   "metadata": {},
   "outputs": [
    {
     "name": "stdin",
     "output_type": "stream",
     "text": [
      "Enter the product you want to buy (or 'done' to finish):  Apples\n",
      "How many units of Apples do you want to buy?  9\n"
     ]
    },
    {
     "name": "stdout",
     "output_type": "stream",
     "text": [
      "9 units of Apples added to your cart.\n"
     ]
    },
    {
     "name": "stdin",
     "output_type": "stream",
     "text": [
      "Enter the product you want to buy (or 'done' to finish):  Milk\n",
      "How many units of Milk do you want to buy?  2\n"
     ]
    },
    {
     "name": "stdout",
     "output_type": "stream",
     "text": [
      "2 units of Milk added to your cart.\n"
     ]
    },
    {
     "name": "stdin",
     "output_type": "stream",
     "text": [
      "Enter the product you want to buy (or 'done' to finish):  done\n"
     ]
    }
   ],
   "source": [
    "user_cart = {}\n",
    "while True:\n",
    "    user_input = input(\"Enter the product you want to buy (or 'done' to finish): \")\n",
    "    if user_input.lower() == 'done':\n",
    "        break\n",
    "    elif user_input in store_inventory and store_inventory[user_input][\"quantity\"] > 0:\n",
    "        quantity_to_buy = int(input(f\"How many units of {user_input} do you want to buy? \"))\n",
    "        if quantity_to_buy <= store_inventory[user_input][\"quantity\"]:\n",
    "            if user_input in user_cart:\n",
    "                user_cart[user_input] += quantity_to_buy\n",
    "            else:\n",
    "                user_cart[user_input] = quantity_to_buy\n",
    "            store_inventory[user_input][\"quantity\"] -= quantity_to_buy\n",
    "            print(f\"{quantity_to_buy} units of {user_input} added to your cart.\")\n",
    "        else:\n",
    "            print(f\"Sorry, only {store_inventory[user_input]['quantity']} units of {user_input} available.\")\n",
    "    else:\n",
    "        print(f\"Sorry, {user_input} is not available or out of stock.\")"
   ]
  },
  {
   "cell_type": "code",
   "execution_count": 42,
   "id": "87b7792a-74ee-4c63-aca9-30200d3e2933",
   "metadata": {},
   "outputs": [
    {
     "name": "stdout",
     "output_type": "stream",
     "text": [
      "\n",
      "Your Shopping Cart:\n",
      "Apples - Quantity: 9, Price per unit: $1.5\n",
      "Milk - Quantity: 2, Price per unit: $2.0\n",
      "\n",
      "Total Cost of Your Purchase: $17.5\n"
     ]
    }
   ],
   "source": [
    "total_cost = 0\n",
    "print(\"\\nYour Shopping Cart:\")\n",
    "for product, quantity in user_cart.items():\n",
    "    price_per_unit = store_inventory[product][\"price\"]\n",
    "    total_cost += quantity * price_per_unit\n",
    "    print(f\"{product} - Quantity: {quantity}, Price per unit: ${price_per_unit}\")\n",
    "\n",
    "print(f\"\\nTotal Cost of Your Purchase: ${total_cost}\")"
   ]
  },
  {
   "cell_type": "code",
   "execution_count": 43,
   "id": "5774f71b-052d-4810-b63a-903f24b29de9",
   "metadata": {},
   "outputs": [],
   "source": [
    "customers = {\n",
    "    \"Alice\": {\"account_number\": 1001, \"balance\": 5000},\n",
    "    \"Bob\": {\"account_number\": 1002, \"balance\": 3000},\n",
    "    \"Charlie\": {\"account_number\": 1003, \"balance\": 7000}\n",
    "}"
   ]
  },
  {
   "cell_type": "code",
   "execution_count": 45,
   "id": "06bd622c-ec21-4c60-99fd-204de4593750",
   "metadata": {},
   "outputs": [
    {
     "name": "stdout",
     "output_type": "stream",
     "text": [
      "Initial Account Details:\n",
      "Alice - Account Number: 1001, Balance: $5000\n",
      "Bob - Account Number: 1002, Balance: $3000\n",
      "Charlie - Account Number: 1003, Balance: $7000\n"
     ]
    }
   ],
   "source": [
    "#Display initial account details\n",
    "print(\"Initial Account Details:\")\n",
    "for customer, details in customers.items():\n",
    "    print(f\"{customer} - Account Number: {details['account_number']}, Balance: ${details['balance']}\")"
   ]
  },
  {
   "cell_type": "code",
   "execution_count": 54,
   "id": "1886fce5-741e-4059-94be-4efe8449146b",
   "metadata": {},
   "outputs": [
    {
     "name": "stdin",
     "output_type": "stream",
     "text": [
      "Alice, do you want to (D)eposit, (W)ithdraw, or (S)kip?  d\n",
      "Enter the deposit amount: $ 5200\n"
     ]
    },
    {
     "name": "stdout",
     "output_type": "stream",
     "text": [
      "Alice - Account Number: 1001 - Deposit of $5200.0 successful. New balance: $15400.0\n"
     ]
    },
    {
     "name": "stdin",
     "output_type": "stream",
     "text": [
      "Bob, do you want to (D)eposit, (W)ithdraw, or (S)kip?  s\n"
     ]
    },
    {
     "name": "stdout",
     "output_type": "stream",
     "text": [
      "Invalid transaction type. Please enter 'D' for deposit or 'W' for withdrawal.\n"
     ]
    },
    {
     "name": "stdin",
     "output_type": "stream",
     "text": [
      "Charlie, do you want to (D)eposit, (W)ithdraw, or (S)kip?  w\n",
      "Enter the withdrawal amount: $ 5000\n"
     ]
    },
    {
     "name": "stdout",
     "output_type": "stream",
     "text": [
      "Charlie - Account Number: 1003 - Insufficient funds. Withdrawal unsuccessful.\n"
     ]
    }
   ],
   "source": [
    "# Second code snippet: Perform transactions (deposits and withdrawals)\n",
    "for customer, details in customers.items():\n",
    "    transaction_type = input(f\"{customer}, do you want to (D)eposit, (W)ithdraw, or (S)kip? \").upper()\n",
    "\n",
    "    if transaction_type == 'D':\n",
    "        amount = float(input(\"Enter the deposit amount: $\"))\n",
    "        details['balance'] += amount\n",
    "        print(f\"{customer} - Account Number: {details['account_number']} - Deposit of ${amount} successful. New balance: ${details['balance']}\")\n",
    "    elif transaction_type == 'W':\n",
    "        amount = float(input(\"Enter the withdrawal amount: $\"))\n",
    "        if amount <= details['balance']:\n",
    "            details['balance'] -= amount\n",
    "            print(f\"{customer} - Account Number: {details['account_number']} - Withdrawal of ${amount} successful. New balance: ${details['balance']}\")\n",
    "        else:\n",
    "             print(f\"{customer} - Account Number: {details['account_number']} - Insufficient funds. Withdrawal unsuccessful.\")\n",
    "    elif action == 'S':\n",
    "        print(f\"{customer} - Account Number: {details['account_number']} - Skipping transaction.\")\n",
    "    else:\n",
    "        print(\"Invalid transaction type. Please enter 'D' for deposit or 'W' for withdrawal.\")"
   ]
  },
  {
   "cell_type": "code",
   "execution_count": 55,
   "id": "93cc0e7b-ad2e-43dc-92ed-140d6ef88215",
   "metadata": {},
   "outputs": [
    {
     "name": "stdout",
     "output_type": "stream",
     "text": [
      "\n",
      "Updated Account Details:\n",
      "Alice - Account Number: 1001, Balance: $15400.0\n",
      "Bob - Account Number: 1002, Balance: $5520.0\n",
      "Charlie - Account Number: 1003, Balance: $2000.0\n"
     ]
    }
   ],
   "source": [
    "# Display updated account details after transactions\n",
    "print(\"\\nUpdated Account Details:\")\n",
    "for customer, details in customers.items():\n",
    "    print(f\"{customer} - Account Number: {details['account_number']}, Balance: ${details['balance']}\")"
   ]
  },
  {
   "cell_type": "code",
   "execution_count": 56,
   "id": "e37f8c00-39f3-4b0a-8157-79f029bc11cc",
   "metadata": {},
   "outputs": [],
   "source": [
    "students = {\n",
    "    \"Alice\": {\"assignments\": [90, 85, 95], \"final_exam\": 88},\n",
    "    \"Bob\": {\"assignments\": [78, 92, 80], \"final_exam\": 75},\n",
    "    \"Charlie\": {\"assignments\": [88, 85, 90], \"final_exam\": 92}\n",
    "}\n"
   ]
  },
  {
   "cell_type": "code",
   "execution_count": 57,
   "id": "6762ea2e-bb7c-48ed-99dd-128f2970289f",
   "metadata": {},
   "outputs": [
    {
     "name": "stdout",
     "output_type": "stream",
     "text": [
      "Student Details and Assignment Scores:\n",
      "Alice - Assignments: [90, 85, 95], Final Exam: 88\n",
      "Bob - Assignments: [78, 92, 80], Final Exam: 75\n",
      "Charlie - Assignments: [88, 85, 90], Final Exam: 92\n"
     ]
    }
   ],
   "source": [
    "# Display initial student details and assignment scores\n",
    "print(\"Student Details and Assignment Scores:\")\n",
    "for student, details in students.items():\n",
    "    print(f\"{student} - Assignments: {details['assignments']}, Final Exam: {details['final_exam']}\")"
   ]
  },
  {
   "cell_type": "code",
   "execution_count": 58,
   "id": "171454a1-c556-423c-850e-964540bd8398",
   "metadata": {},
   "outputs": [],
   "source": [
    "# Second code snippet: Calculate the average assignment score for each student\n",
    "for student, details in students.items():\n",
    "    assignment_avg = sum(details[\"assignments\"]) / len(details[\"assignments\"])\n",
    "    details[\"assignment_avg\"] = assignment_avg"
   ]
  },
  {
   "cell_type": "code",
   "execution_count": 61,
   "id": "5ba494dd-ccb7-4291-8569-ca724ad5e03a",
   "metadata": {},
   "outputs": [
    {
     "name": "stdout",
     "output_type": "stream",
     "text": [
      "\n",
      "Updated Student Details with Assignment Averages:\n",
      "Alice - Assignments Average: 90.000000, Final Exam: 88\n",
      "Bob - Assignments Average: 83.333333, Final Exam: 75\n",
      "Charlie - Assignments Average: 87.666667, Final Exam: 92\n"
     ]
    }
   ],
   "source": [
    "# Display updated student details with average assignment scores\n",
    "print(\"\\nUpdated Student Details with Assignment Averages:\")\n",
    "for student, details in students.items():\n",
    "    print(f\"{student} - Assignments Average: {details['assignment_avg']:2f}, Final Exam: {details['final_exam']}\")"
   ]
  },
  {
   "cell_type": "code",
   "execution_count": 62,
   "id": "da771d87-961e-41dd-a193-0e79d75d8fd8",
   "metadata": {},
   "outputs": [],
   "source": [
    "# Third code snippet: Determine final grades based on assignment averages and final exam scores\n",
    "def calculate_final_grade(avg_score, final_exam_score):\n",
    "    final_score = 0.4 * avg_score + 0.6 * final_exam_score\n",
    "    if final_score >= 90:\n",
    "        return \"A\"\n",
    "    elif final_score >= 80:\n",
    "        return \"B\"\n",
    "    elif final_score >= 70:\n",
    "        return \"C\"\n",
    "    elif final_score >= 60:\n",
    "        return \"D\"\n",
    "    else:\n",
    "        return \"F\"\n"
   ]
  },
  {
   "cell_type": "code",
   "execution_count": 64,
   "id": "bd16daa7-886c-4b69-9c88-700b7a320b66",
   "metadata": {},
   "outputs": [
    {
     "name": "stdout",
     "output_type": "stream",
     "text": [
      "\n",
      "Final Grades:\n",
      "Alice - Final Grade: B\n",
      "Bob - Final Grade: C\n",
      "Charlie - Final Grade: A\n"
     ]
    }
   ],
   "source": [
    " #Calculate and display final grades for each student\n",
    "print(\"\\nFinal Grades:\")\n",
    "for student, details in students.items():\n",
    "    final_grade = calculate_final_grade(details[\"assignment_avg\"], details[\"final_exam\"])\n",
    "    print(f\"{student} - Final Grade: {final_grade}\")"
   ]
  },
  {
   "cell_type": "code",
   "execution_count": null,
   "id": "0f9e257a-6ead-4abc-9e62-e4a7d612bcae",
   "metadata": {},
   "outputs": [],
   "source": []
  }
 ],
 "metadata": {
  "kernelspec": {
   "display_name": "Python 3 (ipykernel)",
   "language": "python",
   "name": "python3"
  },
  "language_info": {
   "codemirror_mode": {
    "name": "ipython",
    "version": 3
   },
   "file_extension": ".py",
   "mimetype": "text/x-python",
   "name": "python",
   "nbconvert_exporter": "python",
   "pygments_lexer": "ipython3",
   "version": "3.11.7"
  }
 },
 "nbformat": 4,
 "nbformat_minor": 5
}
